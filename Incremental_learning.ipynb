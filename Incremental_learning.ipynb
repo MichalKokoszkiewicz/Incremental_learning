{
 "cells": [
  {
   "cell_type": "code",
   "execution_count": null,
   "metadata": {},
   "outputs": [],
   "source": [
    "from pprint import pprint\n",
    "from river import datasets\n",
    "from river import compose\n",
    "from river import linear_model\n",
    "from river import metrics\n",
    "from river import preprocessing\n",
    "from river import stream"
   ]
  },
  {
   "attachments": {},
   "cell_type": "markdown",
   "metadata": {},
   "source": [
    "We select the Elec2 dataset from the River library:"
   ]
  },
  {
   "cell_type": "code",
   "execution_count": null,
   "metadata": {},
   "outputs": [],
   "source": [
    "print(datasets.Elec2())"
   ]
  },
  {
   "attachments": {},
   "cell_type": "markdown",
   "metadata": {},
   "source": [
    "We prepare a generator that provides conversion to a dictionary with float values. For the \\\"class\\\" column, we prepare a simple \\\"one-hot\\\" encoding that writes 1 to the column when it is \\\"UP\\\" and 0 when it is \\\"DOWN\\\". "
   ]
  },
  {
   "cell_type": "code",
   "execution_count": null,
   "metadata": {},
   "outputs": [],
   "source": [
    "# Definicja funkcji do kodowania \"one-hot\"\n",
    "def one_hot_encode_class(x):\n",
    "    if x == 'DOWN':\n",
    "        return {'class_DOWN': 1, 'class_UP': 0}\n",
    "    elif x == 'UP':\n",
    "        return {'class_DOWN': 0, 'class_UP': 1}\n",
    "    else:\n",
    "        return {'class_DOWN': 0, 'class_UP': 0}\n",
    "\n",
    "params = {\n",
    "    'converters': {\n",
    "        'date': float,\n",
    "        'day': float,\n",
    "        'period': float,\n",
    "        'nswprice': float,\n",
    "        'nswdemand': float,\n",
    "        'vicprice': float,\n",
    "        'vicdemand': float,\n",
    "        'transfer': float,\n",
    "        'class': lambda x: 1 if x == 'UP' else 0\n",
    "    }\n",
    "}\n",
    "\n",
    "dataset = stream.iter_csv('electricity.csv', target='class', **params)\n",
    "for x, y in dataset:\n",
    "  print(x, y)\n",
    "\n"
   ]
  },
  {
   "attachments": {},
   "cell_type": "markdown",
   "metadata": {},
   "source": [
    "# The task will require the use of logistic classification\n",
    "The selected set includes various features such as date, day, time period, electricity prices in New South Wales, electricity demand in New South Wales, electricity prices in Victoria, electricity demand in Victoria, electricity transfer.\n",
    "\n",
    "The dataset is presented as a `Binary classification'. The goal is to predict whether the price of electricity will rise or fall.\n",
    "\n",
    "In order to predict the change in electricity prices, a model based on logistic regression was created. The model is built as a Pipeline, in which the data is first processed through feature standardization and then fed into the logistic regression model.\n",
    "\n",
    "The following metrics are used to assess the quality of the model: accuracy, area under the ROC curve, precision, sensitivity and F1. Accuracy measures the proportion of correct predictions of the model. Area under the ROC curve assesses the model's ability to discriminate between classes. Precision measures the proportion of correctly predicted positive labels out of all predicted positive labels. Sensitivity measures the percentage of correctly predicted positive labels out of all actual positive labels. F1 calculates the harmonic mean of precision and recall."
   ]
  },
  {
   "cell_type": "code",
   "execution_count": null,
   "metadata": {},
   "outputs": [],
   "source": [
    "dataset = stream.iter_csv('electricity.csv', target='class', **params)\n",
    "model = compose.Pipeline(\n",
    "    preprocessing.StandardScaler(),\n",
    "    linear_model.LogisticRegression()\n",
    ")\n",
    "metricAcc = metrics.Accuracy()\n",
    "metricROCAUC = metrics.ROCAUC()\n",
    "metricPrecision = metrics.Precision()\n",
    "metricRecall = metrics.Recall()\n",
    "metricF = metrics.F1()"
   ]
  },
  {
   "cell_type": "code",
   "execution_count": null,
   "metadata": {},
   "outputs": [],
   "source": [
    "%%time\n",
    "for x, y in dataset:\n",
    "    y_pred = model.predict_one(x)      \n",
    "    metricAcc = metricAcc.update(y, y_pred)\n",
    "    metricROCAUC = metricROCAUC.update(y, y_pred)\n",
    "    metricPrecision = metricPrecision.update(y, y_pred)\n",
    "    metricRecall = metricRecall.update(y, y_pred)\n",
    "    metricF = metricF.update(y, y_pred)\n",
    "    model = model.learn_one(x, y)"
   ]
  },
  {
   "cell_type": "code",
   "execution_count": null,
   "metadata": {},
   "outputs": [],
   "source": [
    "print(metricAcc)\n",
    "print(metricROCAUC)\n",
    "print(metricPrecision)\n",
    "print(metricRecall)\n",
    "print(metricF)"
   ]
  },
  {
   "cell_type": "code",
   "execution_count": null,
   "metadata": {},
   "outputs": [],
   "source": [
    "dataset = stream.iter_csv('electricity.csv', target='class', **params)\n",
    "n = 0\n",
    "for x,y in iter(dataset):\n",
    "    y_pred = model.predict_one(x)      \n",
    "    metricAcc = metricAcc.update(y, y_pred)\n",
    "    metricROCAUC = metricROCAUC.update(y, y_pred)\n",
    "    metricPrecision = metricPrecision.update(y, y_pred)\n",
    "    metricRecall = metricRecall.update(y, y_pred)\n",
    "    metricF = metricF.update(y, y_pred)\n",
    "    model = model.learn_one(x, y)\n",
    "\n",
    "    n += 1\n",
    "    if(n>100): break\n",
    "\n",
    "print(f\"Step {n} - Accuracy: {metricAcc}, ROCAUC: {metricROCAUC}, Precision: {metricPrecision}, Recall: {metricRecall}, F1-Score: {metricF}\")"
   ]
  },
  {
   "attachments": {},
   "cell_type": "markdown",
   "metadata": {},
   "source": [
    "First iteration:\n",
    "\n",
    "Step 101 - Accuracy: Accuracy: 83.76%, ROCAUC: ROCAUC: 82.77%, Precision: Precision: 84.00%, Recall: Recall: 76.24%, F1-Score: F1: 79.93%\n",
    "\n",
    "Second iteration:\n",
    "\n",
    "Step 101 - Accuracy: Accuracy: 83.76%, ROCAUC: ROCAUC: 82.76%, Precision: Precision: 84.02%, Recall: Recall: 76.20%, F1-Score: F1: 79.92%\n",
    "\n",
    "Third iteration:\n",
    "\n",
    "Step 101 - Accuracy: Accuracy: 83.75%, ROCAUC: ROCAUC: 82.75%, Precision: Precision: 84.03%, Recall: Recall: 76.15%, F1-Score: F1: 79.90%\n",
    "\n",
    "Fourth iteration:\n",
    "\n",
    "Step 101 - Accuracy: Accuracy: 83.75%, ROCAUC: ROCAUC: 82.73%, Precision: Precision: 84.05%, Recall: Recall: 76.09%, F1-Score: F1: 79.87%\n",
    "\n",
    "15 iteration:\n",
    "\n",
    "Step 101 - Accuracy: Accuracy: 83.69%, ROCAUC: ROCAUC: 82.57%, Precision: Precision: 84.21%, Recall: Recall: 75.45%, F1-Score: F1: 79.59%\n",
    "\n",
    "30 iteration:\n",
    "\n",
    "Step 101 - Accuracy: Accuracy: 83.70%, ROCAUC: ROCAUC: 82.47%, Precision: Precision: 84.43%, Recall: Recall: 74.91%, F1-Score: F1: 79.38%"
   ]
  },
  {
   "attachments": {},
   "cell_type": "markdown",
   "metadata": {},
   "source": [
    "The model deteriorates its metrics gently all the time, but eventually the values of the quality metrics remain at a similar level in successive iterations of code execution, without much change.\n",
    "\n",
    "The accuracy of the model is moderate, oscillating around 83.7-83.8%\n",
    "\n",
    "The ROCAUC index is oscillating around the 82.4-82.8%.\n",
    "\n",
    "Precision oscillating around 84.0-84.4%.\n",
    "\n",
    "Recall oscillating around 74.9-76.2%.\n",
    "\n",
    "The F1-Score of the model oscillates around 79.4-79.9%.\n",
    "\n",
    "The Logistic Regression model, despite stable results, may be somewhat limited in its ability to detect all positive cases. There is potential room for improving the results by using more advanced models or adjusting the model's hyperparameters.\n"
   ]
  },
  {
   "attachments": {},
   "cell_type": "markdown",
   "metadata": {},
   "source": [
    "# Model modification\n",
    "\n",
    "The following model change is from logistic regression to percepton."
   ]
  },
  {
   "cell_type": "code",
   "execution_count": null,
   "metadata": {},
   "outputs": [],
   "source": [
    "dataset = stream.iter_csv('electricity.csv', target='class', **params)\n",
    "model = compose.Pipeline(\n",
    "    preprocessing.StandardScaler(),\n",
    "    linear_model.Perceptron()\n",
    ")\n",
    "metricAcc = metrics.Accuracy()\n",
    "metricROCAUC = metrics.ROCAUC()\n",
    "metricPrecision = metrics.Precision()\n",
    "metricRecall = metrics.Recall()\n",
    "metricF = metrics.F1()"
   ]
  },
  {
   "cell_type": "code",
   "execution_count": null,
   "metadata": {},
   "outputs": [],
   "source": [
    "%%time\n",
    "for x, y in dataset:\n",
    "    y_pred = model.predict_one(x)      \n",
    "    metricAcc = metricAcc.update(y, y_pred)\n",
    "    metricROCAUC = metricROCAUC.update(y, y_pred)\n",
    "    metricPrecision = metricPrecision.update(y, y_pred)\n",
    "    metricRecall = metricRecall.update(y, y_pred)\n",
    "    metricF = metricF.update(y, y_pred)\n",
    "    model = model.learn_one(x, y)"
   ]
  },
  {
   "cell_type": "code",
   "execution_count": null,
   "metadata": {},
   "outputs": [],
   "source": [
    "print(metricAcc)\n",
    "print(metricROCAUC)\n",
    "print(metricPrecision)\n",
    "print(metricRecall)\n",
    "print(metricF)"
   ]
  },
  {
   "cell_type": "code",
   "execution_count": null,
   "metadata": {},
   "outputs": [],
   "source": [
    "dataset = stream.iter_csv('electricity.csv', target='class', **params)\n",
    "n = 0\n",
    "for x,y in iter(dataset):\n",
    "    y_pred = model.predict_one(x)      \n",
    "    metricAcc = metricAcc.update(y, y_pred)\n",
    "    metricROCAUC = metricROCAUC.update(y, y_pred)\n",
    "    metricPrecision = metricPrecision.update(y, y_pred)\n",
    "    metricRecall = metricRecall.update(y, y_pred)\n",
    "    metricF = metricF.update(y, y_pred)\n",
    "    model = model.learn_one(x, y)\n",
    "\n",
    "    n += 1\n",
    "    if(n>100): break\n",
    "\n",
    "print(f\"Step {n} - Accuracy: {metricAcc}, ROCAUC: {metricROCAUC}, Precision: {metricPrecision}, Recall: {metricRecall}, F1-Score: {metricF}\")"
   ]
  },
  {
   "attachments": {},
   "cell_type": "markdown",
   "metadata": {},
   "source": [
    "First iteration:\n",
    "\n",
    "Step 101 - Accuracy: Accuracy: 91.08%, ROCAUC: ROCAUC: 90.87%, Precision: Precision: 89.49%, Recall: Recall: 89.48%, F1-Score: F1: 89.48%\n",
    "\n",
    "Second iteration:\n",
    "\n",
    "Step 101 - Accuracy: Accuracy: 91.07%, ROCAUC: ROCAUC: 90.86%, Precision: Precision: 89.48%, Recall: Recall: 89.47%, F1-Score: F1: 89.48%\n",
    "\n",
    "Third iteration:\n",
    "\n",
    "Step 101 - Accuracy: Accuracy: 91.08%, ROCAUC: ROCAUC: 90.86%, Precision: Precision: 89.48%, Recall: Recall: 89.47%, F1-Score: F1: 89.47%\n",
    "\n",
    "Fourth iteration:\n",
    "\n",
    "Step 101 - Accuracy: Accuracy: 91.07%, ROCAUC: ROCAUC: 90.86%, Precision: Precision: 89.47%, Recall: Recall: 89.46%, F1-Score: F1: 89.47%\n",
    "\n",
    "15 iteration:\n",
    "\n",
    "Step 101 - Accuracy: Accuracy: 91.09%, ROCAUC: ROCAUC: 90.86%, Precision: Precision: 89.44%, Recall: Recall: 89.43%, F1-Score: F1: 89.43%\n",
    "\n",
    "30 iteration:\n",
    "\n",
    "Step 101 - Accuracy: Accuracy: 91.30%, ROCAUC: ROCAUC: 91.06%, Precision: Precision: 89.62%, Recall: Recall: 89.61%, F1-Score: F1: 89.62%\n",
    "\n",
    "50 iteration:\n",
    "\n",
    "Step 101 - Accuracy: Accuracy: 91.64%, ROCAUC: ROCAUC: 91.40%, Precision: Precision: 89.95%, Recall: Recall: 89.94%, F1-Score: F1: 89.95%\n",
    "\n",
    "100 iteration:\n",
    "\n",
    "Step 101 - Accuracy: Accuracy: 92.40%, ROCAUC: ROCAUC: 92.14%, Precision: Precision: 90.70%, Recall: Recall: 90.69%, F1-Score: F1: 90.70%\n",
    "\n",
    "145 iteration:\n",
    "\n",
    "Step 101 - Accuracy: Accuracy: 93.00%, ROCAUC: ROCAUC: 92.72%, Precision: Precision: 91.32%, Recall: Recall: 91.31%, F1-Score: F1: 91.31%"
   ]
  },
  {
   "attachments": {},
   "cell_type": "markdown",
   "metadata": {},
   "source": [
    "The model, after several loop executions, began to improve its performance.\n",
    "\n",
    "On the first execution of the loop, his Accuracy score was 91.08%, and on the 145th execution of the loop it was 93% - a significant difference. \n",
    "\n",
    "There is a precisely visible upward trend in the value of the metrics, which means that the model learns more and more with each successive execution of the loop.\n",
    "\n",
    "All other metrics also improved significantly, on a similar scale to the Accuracy metric.\n",
    "\n",
    "The Perceptron model achieved better results than the previously used Logistic Regression model. It is more effective in classifying data from this set, achieving higher accuracy and better quality indicators.\n"
   ]
  }
 ],
 "metadata": {
  "kernelspec": {
   "display_name": "Python 3",
   "language": "python",
   "name": "python3"
  },
  "language_info": {
   "codemirror_mode": {
    "name": "ipython",
    "version": 3
   },
   "file_extension": ".py",
   "mimetype": "text/x-python",
   "name": "python",
   "nbconvert_exporter": "python",
   "pygments_lexer": "ipython3",
   "version": "3.10.4"
  },
  "orig_nbformat": 4
 },
 "nbformat": 4,
 "nbformat_minor": 2
}
